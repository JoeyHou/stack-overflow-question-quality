{
 "cells": [
  {
   "cell_type": "markdown",
   "id": "24a6f818",
   "metadata": {},
   "source": [
    "# 0. Overview\n",
    "- This notebook handles the exploratory data analysis of the given dataset.\n"
   ]
  },
  {
   "cell_type": "code",
   "execution_count": 1,
   "id": "934768b8",
   "metadata": {},
   "outputs": [],
   "source": [
    "import pickle\n",
    "import pandas as pd\n",
    "import numpy as np\n",
    "from tqdm import tqdm\n",
    "\n",
    "from sklearn.linear_model import LogisticRegression\n",
    "from sklearn.metrics import accuracy_score"
   ]
  },
  {
   "cell_type": "code",
   "execution_count": 2,
   "id": "87b3753f",
   "metadata": {},
   "outputs": [],
   "source": [
    "train_df = pickle.load(open('../data/processed/train_df.pkl', 'rb'))\n",
    "val_df = pickle.load(open('../data/processed/val_df.pkl', 'rb'))\n",
    "test_df = pickle.load(open('../data/processed/test_df.pkl', 'rb'))"
   ]
  },
  {
   "cell_type": "code",
   "execution_count": 3,
   "id": "12123165",
   "metadata": {},
   "outputs": [],
   "source": [
    "X_train = train_df[['title_length', 'body_length']]\n",
    "X_val = val_df[['title_length', 'body_length']]\n",
    "X_test = test_df[['title_length', 'body_length']]\n",
    "\n",
    "y_train = train_df.cleaned_y.values\n",
    "y_val = val_df.cleaned_y.values\n",
    "y_test = test_df.cleaned_y.values"
   ]
  },
  {
   "cell_type": "code",
   "execution_count": 4,
   "id": "807c42b0",
   "metadata": {},
   "outputs": [
    {
     "name": "stderr",
     "output_type": "stream",
     "text": [
      "100%|██████████| 7/7 [00:04<00:00,  1.73it/s]\n"
     ]
    }
   ],
   "source": [
    "all_rows = []\n",
    "for c in tqdm([0.001, 0.01, 0.1, 1, 10, 100, 1000]):\n",
    "    clf = LogisticRegression(random_state = 0).fit(X_train, y_train)\n",
    "    train_acc = accuracy_score(y_train, clf.predict(X_train))\n",
    "    val_acc = accuracy_score(y_val, clf.predict(X_val))\n",
    "    all_rows.append({\n",
    "        'c': c,\n",
    "        'train_acc': round(train_acc, 2),\n",
    "        'val_acc': round(val_acc, 2)\n",
    "    })"
   ]
  },
  {
   "cell_type": "code",
   "execution_count": 5,
   "id": "523bcd65",
   "metadata": {},
   "outputs": [
    {
     "data": {
      "text/html": [
       "<div>\n",
       "<style scoped>\n",
       "    .dataframe tbody tr th:only-of-type {\n",
       "        vertical-align: middle;\n",
       "    }\n",
       "\n",
       "    .dataframe tbody tr th {\n",
       "        vertical-align: top;\n",
       "    }\n",
       "\n",
       "    .dataframe thead th {\n",
       "        text-align: right;\n",
       "    }\n",
       "</style>\n",
       "<table border=\"1\" class=\"dataframe\">\n",
       "  <thead>\n",
       "    <tr style=\"text-align: right;\">\n",
       "      <th></th>\n",
       "      <th>c</th>\n",
       "      <th>train_acc</th>\n",
       "      <th>val_acc</th>\n",
       "    </tr>\n",
       "  </thead>\n",
       "  <tbody>\n",
       "    <tr>\n",
       "      <th>0</th>\n",
       "      <td>0.001</td>\n",
       "      <td>0.39</td>\n",
       "      <td>0.39</td>\n",
       "    </tr>\n",
       "    <tr>\n",
       "      <th>1</th>\n",
       "      <td>0.010</td>\n",
       "      <td>0.39</td>\n",
       "      <td>0.39</td>\n",
       "    </tr>\n",
       "    <tr>\n",
       "      <th>2</th>\n",
       "      <td>0.100</td>\n",
       "      <td>0.39</td>\n",
       "      <td>0.39</td>\n",
       "    </tr>\n",
       "    <tr>\n",
       "      <th>3</th>\n",
       "      <td>1.000</td>\n",
       "      <td>0.39</td>\n",
       "      <td>0.39</td>\n",
       "    </tr>\n",
       "    <tr>\n",
       "      <th>4</th>\n",
       "      <td>10.000</td>\n",
       "      <td>0.39</td>\n",
       "      <td>0.39</td>\n",
       "    </tr>\n",
       "    <tr>\n",
       "      <th>5</th>\n",
       "      <td>100.000</td>\n",
       "      <td>0.39</td>\n",
       "      <td>0.39</td>\n",
       "    </tr>\n",
       "    <tr>\n",
       "      <th>6</th>\n",
       "      <td>1000.000</td>\n",
       "      <td>0.39</td>\n",
       "      <td>0.39</td>\n",
       "    </tr>\n",
       "  </tbody>\n",
       "</table>\n",
       "</div>"
      ],
      "text/plain": [
       "          c  train_acc  val_acc\n",
       "0     0.001       0.39     0.39\n",
       "1     0.010       0.39     0.39\n",
       "2     0.100       0.39     0.39\n",
       "3     1.000       0.39     0.39\n",
       "4    10.000       0.39     0.39\n",
       "5   100.000       0.39     0.39\n",
       "6  1000.000       0.39     0.39"
      ]
     },
     "execution_count": 5,
     "metadata": {},
     "output_type": "execute_result"
    }
   ],
   "source": [
    "pd.DataFrame(all_rows)"
   ]
  },
  {
   "cell_type": "code",
   "execution_count": 7,
   "id": "11fe9443",
   "metadata": {},
   "outputs": [
    {
     "data": {
      "text/plain": [
       "(60000, 11)"
      ]
     },
     "execution_count": 7,
     "metadata": {},
     "output_type": "execute_result"
    }
   ],
   "source": [
    "all_data = pd.concat([train_df, val_df, test_df]).reset_index(drop = True)\n",
    "all_data.shape"
   ]
  },
  {
   "cell_type": "markdown",
   "id": "2b885e1a",
   "metadata": {},
   "source": [
    "# 1. Distribution"
   ]
  },
  {
   "cell_type": "code",
   "execution_count": 9,
   "id": "2c48a5d6",
   "metadata": {},
   "outputs": [],
   "source": [
    "import seaborn as sns"
   ]
  },
  {
   "cell_type": "code",
   "execution_count": null,
   "id": "bcedb74b",
   "metadata": {},
   "outputs": [],
   "source": [
    "# Label Distibution"
   ]
  },
  {
   "cell_type": "code",
   "execution_count": 13,
   "id": "9d5d927d",
   "metadata": {},
   "outputs": [
    {
     "data": {
      "text/html": [
       "<div>\n",
       "<style scoped>\n",
       "    .dataframe tbody tr th:only-of-type {\n",
       "        vertical-align: middle;\n",
       "    }\n",
       "\n",
       "    .dataframe tbody tr th {\n",
       "        vertical-align: top;\n",
       "    }\n",
       "\n",
       "    .dataframe thead th {\n",
       "        text-align: right;\n",
       "    }\n",
       "</style>\n",
       "<table border=\"1\" class=\"dataframe\">\n",
       "  <thead>\n",
       "    <tr style=\"text-align: right;\">\n",
       "      <th></th>\n",
       "      <th>Id</th>\n",
       "      <th>Title</th>\n",
       "      <th>Body</th>\n",
       "      <th>Tags</th>\n",
       "      <th>CreationDate</th>\n",
       "      <th>Y</th>\n",
       "      <th>cleaned_y</th>\n",
       "      <th>body_notag</th>\n",
       "      <th>all_text</th>\n",
       "      <th>title_length</th>\n",
       "      <th>body_length</th>\n",
       "    </tr>\n",
       "  </thead>\n",
       "  <tbody>\n",
       "    <tr>\n",
       "      <th>0</th>\n",
       "      <td>47236918</td>\n",
       "      <td>click edit button any record will fetch first ...</td>\n",
       "      <td>I have a problem\\r\\nWhen I click the Edit butt...</td>\n",
       "      <td>&lt;php&gt;&lt;html&gt;&lt;mysql&gt;&lt;sql&gt;</td>\n",
       "      <td>2017-11-11 10:31:22</td>\n",
       "      <td>LQ_EDIT</td>\n",
       "      <td>1</td>\n",
       "      <td>have problem click edit button any record will...</td>\n",
       "      <td>click edit button any record will fetch first ...</td>\n",
       "      <td>12</td>\n",
       "      <td>90</td>\n",
       "    </tr>\n",
       "    <tr>\n",
       "      <th>1</th>\n",
       "      <td>43043808</td>\n",
       "      <td>to filter username harmful characters</td>\n",
       "      <td>&lt;p&gt;i really need help from you guys !!\\nsome o...</td>\n",
       "      <td>&lt;php&gt;&lt;html&gt;</td>\n",
       "      <td>2017-03-27 10:21:57</td>\n",
       "      <td>LQ_CLOSE</td>\n",
       "      <td>0</td>\n",
       "      <td>really need help you guys of friends scamming ...</td>\n",
       "      <td>to filter username harmful characters really n...</td>\n",
       "      <td>5</td>\n",
       "      <td>26</td>\n",
       "    </tr>\n",
       "  </tbody>\n",
       "</table>\n",
       "</div>"
      ],
      "text/plain": [
       "         Id                                              Title  \\\n",
       "0  47236918  click edit button any record will fetch first ...   \n",
       "1  43043808              to filter username harmful characters   \n",
       "\n",
       "                                                Body                     Tags  \\\n",
       "0  I have a problem\\r\\nWhen I click the Edit butt...  <php><html><mysql><sql>   \n",
       "1  <p>i really need help from you guys !!\\nsome o...              <php><html>   \n",
       "\n",
       "          CreationDate         Y  cleaned_y  \\\n",
       "0  2017-11-11 10:31:22   LQ_EDIT          1   \n",
       "1  2017-03-27 10:21:57  LQ_CLOSE          0   \n",
       "\n",
       "                                          body_notag  \\\n",
       "0  have problem click edit button any record will...   \n",
       "1  really need help you guys of friends scamming ...   \n",
       "\n",
       "                                            all_text  title_length  \\\n",
       "0  click edit button any record will fetch first ...            12   \n",
       "1  to filter username harmful characters really n...             5   \n",
       "\n",
       "   body_length  \n",
       "0           90  \n",
       "1           26  "
      ]
     },
     "execution_count": 13,
     "metadata": {},
     "output_type": "execute_result"
    }
   ],
   "source": [
    "all_data.head(2)"
   ]
  },
  {
   "cell_type": "code",
   "execution_count": 14,
   "id": "5aac372f",
   "metadata": {},
   "outputs": [
    {
     "data": {
      "image/png": "[encoded data removed]",
      "text/plain": [
       "<Figure size 432x288 with 1 Axes>"
      ]
     },
     "metadata": {},
     "output_type": "display_data"
    }
   ],
   "source": [
    "y_dist_data = all_data.groupby('cleaned_y').agg('count')['all_text']\n",
    "y_dist_data.plot.pie(autopct=\"%.1f%%\");"
   ]
  },
  {
   "cell_type": "code",
   "execution_count": null,
   "id": "e4d4f775",
   "metadata": {},
   "outputs": [],
   "source": []
  },
  {
   "cell_type": "code",
   "execution_count": null,
   "id": "54821ae6",
   "metadata": {},
   "outputs": [],
   "source": []
  },
  {
   "cell_type": "markdown",
   "id": "f20c243a",
   "metadata": {},
   "source": [
    "# 2. Text Analysis"
   ]
  },
  {
   "cell_type": "markdown",
   "id": "c610246f",
   "metadata": {},
   "source": [
    "## 2.1 Text Length"
   ]
  },
  {
   "cell_type": "code",
   "execution_count": 15,
   "id": "13b9de22",
   "metadata": {},
   "outputs": [],
   "source": [
    "all_data['total_length'] = all_data.title_length + all_data.body_length"
   ]
  },
  {
   "cell_type": "code",
   "execution_count": 18,
   "id": "98e0d4f6",
   "metadata": {},
   "outputs": [
    {
     "data": {
      "text/plain": [
       "757.010000000002"
      ]
     },
     "execution_count": 18,
     "metadata": {},
     "output_type": "execute_result"
    }
   ],
   "source": [
    "top_length = np.percentile((all_data['total_length'].values), 99)\n",
    "top_length"
   ]
  },
  {
   "cell_type": "code",
   "execution_count": 20,
   "id": "9c875ccf",
   "metadata": {},
   "outputs": [
    {
     "data": {
      "text/plain": [
       "<AxesSubplot:xlabel='total_length', ylabel='Count'>"
      ]
     },
     "execution_count": 20,
     "metadata": {},
     "output_type": "execute_result"
    },
    {
     "data": {
      "image/png": "[encoded data removed]",
      "text/plain": [
       "<Figure size 432x288 with 1 Axes>"
      ]
     },
     "metadata": {
      "needs_background": "light"
     },
     "output_type": "display_data"
    }
   ],
   "source": [
    "sns.histplot(all_data.query('cleaned_y == 0 & total_length < {}'.format(top_length)).total_length)"
   ]
  },
  {
   "cell_type": "code",
   "execution_count": null,
   "id": "01e421df",
   "metadata": {},
   "outputs": [],
   "source": []
  },
  {
   "cell_type": "code",
   "execution_count": null,
   "id": "648acc44",
   "metadata": {},
   "outputs": [],
   "source": []
  },
  {
   "cell_type": "code",
   "execution_count": null,
   "id": "48d35463",
   "metadata": {},
   "outputs": [],
   "source": [
    "fig,(ax1, ax2) = plt.subplots(1, 2, figsize = (16, 5))\n",
    "word  =  train[train['y'] == 'HQ']['body'].str.split().apply(lambda x : [len(i) for i in x])\n",
    "sns.distplot(word.map(lambda x: np.mean(x)),ax  =  ax1, color = 'red')\n",
    "ax1.set_title('High Quality Questions')\n",
    "word  =  train[(train['y'] == 'LQ_EDIT') | (train['y'] == 'LQ_CLOSE')]['body'].str.split().apply(lambda x : [len(i) for i in x])\n",
    "sns.distplot(word.map(lambda x: np.mean(x)),ax  =  ax2, color = 'green')\n",
    "ax2.set_title('Low  Quality Questions')\n",
    "fig.suptitle('Average word length in each question')"
   ]
  }
 ],
 "metadata": {
  "kernelspec": {
   "display_name": "conda_pytorch_p36",
   "language": "python",
   "name": "conda_pytorch_p36"
  },
  "language_info": {
   "codemirror_mode": {
    "name": "ipython",
    "version": 3
   },
   "file_extension": ".py",
   "mimetype": "text/x-python",
   "name": "python",
   "nbconvert_exporter": "python",
   "pygments_lexer": "ipython3",
   "version": "3.6.13"
  }
 },
 "nbformat": 4,
 "nbformat_minor": 5
}
