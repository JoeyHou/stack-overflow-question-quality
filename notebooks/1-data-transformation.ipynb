{
 "cells": [
  {
   "cell_type": "code",
   "execution_count": 1,
   "id": "15295d47",
   "metadata": {},
   "outputs": [],
   "source": [
    "import pandas as pd\n",
    "import numpy as np\n",
    "from tqdm import tqdm\n",
    "import pickle\n",
    "import re"
   ]
  },
  {
   "cell_type": "code",
   "execution_count": 2,
   "id": "576506d1",
   "metadata": {},
   "outputs": [
    {
     "name": "stderr",
     "output_type": "stream",
     "text": [
      "[nltk_data] Downloading package stopwords to\n",
      "[nltk_data]     /home/ec2-user/nltk_data...\n",
      "[nltk_data]   Unzipping corpora/stopwords.zip.\n"
     ]
    }
   ],
   "source": [
    "import nltk\n",
    "nltk.download('stopwords');"
   ]
  },
  {
   "cell_type": "markdown",
   "id": "ade29396",
   "metadata": {},
   "source": [
    "# 1. Read in Raw Data"
   ]
  },
  {
   "cell_type": "code",
   "execution_count": 3,
   "id": "0fec6ffd",
   "metadata": {},
   "outputs": [
    {
     "data": {
      "text/plain": [
       "(45000, 15000)"
      ]
     },
     "execution_count": 3,
     "metadata": {},
     "output_type": "execute_result"
    }
   ],
   "source": [
    "train = pd.read_csv('../data/raw/train.csv')\n",
    "test = pd.read_csv('../data/raw/valid.csv')\n",
    "\n",
    "train.shape[0], test.shape[0]"
   ]
  },
  {
   "cell_type": "code",
   "execution_count": 4,
   "id": "6695c832",
   "metadata": {},
   "outputs": [
    {
     "data": {
      "text/html": [
       "<div>\n",
       "<style scoped>\n",
       "    .dataframe tbody tr th:only-of-type {\n",
       "        vertical-align: middle;\n",
       "    }\n",
       "\n",
       "    .dataframe tbody tr th {\n",
       "        vertical-align: top;\n",
       "    }\n",
       "\n",
       "    .dataframe thead th {\n",
       "        text-align: right;\n",
       "    }\n",
       "</style>\n",
       "<table border=\"1\" class=\"dataframe\">\n",
       "  <thead>\n",
       "    <tr style=\"text-align: right;\">\n",
       "      <th></th>\n",
       "      <th>Id</th>\n",
       "      <th>Title</th>\n",
       "      <th>Body</th>\n",
       "      <th>Tags</th>\n",
       "      <th>CreationDate</th>\n",
       "      <th>Y</th>\n",
       "    </tr>\n",
       "  </thead>\n",
       "  <tbody>\n",
       "    <tr>\n",
       "      <th>0</th>\n",
       "      <td>34552656</td>\n",
       "      <td>Java: Repeat Task Every Random Seconds</td>\n",
       "      <td>&lt;p&gt;I'm already familiar with repeating tasks e...</td>\n",
       "      <td>&lt;java&gt;&lt;repeat&gt;</td>\n",
       "      <td>2016-01-01 00:21:59</td>\n",
       "      <td>LQ_CLOSE</td>\n",
       "    </tr>\n",
       "    <tr>\n",
       "      <th>1</th>\n",
       "      <td>34553034</td>\n",
       "      <td>Why are Java Optionals immutable?</td>\n",
       "      <td>&lt;p&gt;I'd like to understand why Java 8 Optionals...</td>\n",
       "      <td>&lt;java&gt;&lt;optional&gt;</td>\n",
       "      <td>2016-01-01 02:03:20</td>\n",
       "      <td>HQ</td>\n",
       "    </tr>\n",
       "  </tbody>\n",
       "</table>\n",
       "</div>"
      ],
      "text/plain": [
       "         Id                                   Title  \\\n",
       "0  34552656  Java: Repeat Task Every Random Seconds   \n",
       "1  34553034       Why are Java Optionals immutable?   \n",
       "\n",
       "                                                Body              Tags  \\\n",
       "0  <p>I'm already familiar with repeating tasks e...    <java><repeat>   \n",
       "1  <p>I'd like to understand why Java 8 Optionals...  <java><optional>   \n",
       "\n",
       "          CreationDate         Y  \n",
       "0  2016-01-01 00:21:59  LQ_CLOSE  \n",
       "1  2016-01-01 02:03:20        HQ  "
      ]
     },
     "execution_count": 4,
     "metadata": {},
     "output_type": "execute_result"
    }
   ],
   "source": [
    "train.head(2)"
   ]
  },
  {
   "cell_type": "code",
   "execution_count": null,
   "id": "419ffd78",
   "metadata": {},
   "outputs": [],
   "source": []
  },
  {
   "cell_type": "code",
   "execution_count": 24,
   "id": "e6b04518",
   "metadata": {},
   "outputs": [],
   "source": [
    "# train.loc[0].CreationDate"
   ]
  },
  {
   "cell_type": "code",
   "execution_count": 25,
   "id": "f145ac1c",
   "metadata": {},
   "outputs": [],
   "source": [
    "# all_data = pd.concat([train, test]).reset_index(drop = True)"
   ]
  },
  {
   "cell_type": "code",
   "execution_count": 26,
   "id": "a8afdca3",
   "metadata": {},
   "outputs": [],
   "source": [
    "# all_data.shape"
   ]
  },
  {
   "cell_type": "code",
   "execution_count": 27,
   "id": "08dac4f0",
   "metadata": {},
   "outputs": [],
   "source": [
    "# train.query('Y == \"HQ\"').shape[0], test.query('Y == \"HQ\"').shape[0]"
   ]
  },
  {
   "cell_type": "code",
   "execution_count": 28,
   "id": "b426b595",
   "metadata": {},
   "outputs": [],
   "source": [
    "# train.query('Y == \"LQ_CLOSE\"').shape[0], test.query('Y == \"LQ_CLOSE\"').shape[0]"
   ]
  },
  {
   "cell_type": "code",
   "execution_count": 29,
   "id": "883baecc",
   "metadata": {},
   "outputs": [],
   "source": [
    "# train.query('Y == \"LQ_EDIT\"').shape[0], test.query('Y == \"LQ_CLOSE\"').shape[0]"
   ]
  },
  {
   "cell_type": "code",
   "execution_count": null,
   "id": "59ed139c",
   "metadata": {},
   "outputs": [],
   "source": []
  },
  {
   "cell_type": "markdown",
   "id": "72fea40a",
   "metadata": {},
   "source": [
    "# 2. Data Cleaning"
   ]
  },
  {
   "cell_type": "markdown",
   "id": "01d1949d",
   "metadata": {},
   "source": [
    "## 2.1 Check NaN"
   ]
  },
  {
   "cell_type": "code",
   "execution_count": 5,
   "id": "3bf5c911",
   "metadata": {},
   "outputs": [
    {
     "data": {
      "text/plain": [
       "Id              0\n",
       "Title           0\n",
       "Body            0\n",
       "Tags            0\n",
       "CreationDate    0\n",
       "Y               0\n",
       "dtype: int64"
      ]
     },
     "execution_count": 5,
     "metadata": {},
     "output_type": "execute_result"
    }
   ],
   "source": [
    "train.isna().sum()"
   ]
  },
  {
   "cell_type": "code",
   "execution_count": 6,
   "id": "20803cb6",
   "metadata": {},
   "outputs": [
    {
     "data": {
      "text/plain": [
       "Id              0\n",
       "Title           0\n",
       "Body            0\n",
       "Tags            0\n",
       "CreationDate    0\n",
       "Y               0\n",
       "dtype: int64"
      ]
     },
     "execution_count": 6,
     "metadata": {},
     "output_type": "execute_result"
    }
   ],
   "source": [
    "test.isna().sum()"
   ]
  },
  {
   "cell_type": "markdown",
   "id": "f80b4190",
   "metadata": {},
   "source": [
    "## 2.2 Clean Label"
   ]
  },
  {
   "cell_type": "code",
   "execution_count": 7,
   "id": "ea18940c",
   "metadata": {},
   "outputs": [],
   "source": [
    "label_dict = {\n",
    "    'LQ_CLOSE': 0,\n",
    "    'LQ_EDIT': 1,\n",
    "    'HQ': 2\n",
    "}"
   ]
  },
  {
   "cell_type": "code",
   "execution_count": 8,
   "id": "a3ba7a08",
   "metadata": {},
   "outputs": [],
   "source": [
    "train['cleaned_y'] = train.Y.apply(lambda x: label_dict[x])\n",
    "test['cleaned_y'] = test.Y.apply(lambda x: label_dict[x])"
   ]
  },
  {
   "cell_type": "markdown",
   "id": "287e6af0",
   "metadata": {},
   "source": [
    "## 2.3 Clean Title"
   ]
  },
  {
   "cell_type": "code",
   "execution_count": 9,
   "id": "aa1b57ed",
   "metadata": {},
   "outputs": [],
   "source": [
    "# title\n",
    "train.Title = train.Title.apply(lambda x: x.lower())\n",
    "test.Title = test.Title.apply(lambda x: x.lower())"
   ]
  },
  {
   "cell_type": "code",
   "execution_count": 10,
   "id": "75e40458",
   "metadata": {},
   "outputs": [],
   "source": [
    "from nltk import word_tokenize\n",
    "from nltk.corpus import stopwords\n",
    "stop_words = stopwords.words('english')\n",
    "\n",
    "def remove_stopwords(string):\n",
    "    word_list = [word.lower() for word in string.split()]\n",
    "    stopwords_list = list(stopwords.words(\"english\"))\n",
    "    for word in word_list:\n",
    "        if word in stopwords_list:\n",
    "            word_list.remove(word)\n",
    "    return ' '.join(word_list)\n",
    "\n",
    "def clean_text(text):\n",
    "    text = re.sub('\\\\n', ' ', text)\n",
    "    text = re.sub('\\W', ' ', text)\n",
    "    text = re.sub(r'https\\s+|www.\\s+', r'', text)\n",
    "    text = re.sub(r'http\\s+|www.\\s+',r'', text)\n",
    "    text = re.sub(r'\\s+[a-zA-Z]\\s+',' ', text)\n",
    "    text = re.sub(r'\\^[a-zA-Z]\\s+',' ', text)\n",
    "    text = text.lower()\n",
    "    \n",
    "    text = re.sub(r\"\\’\", \"\\'\", text)\n",
    "    text = re.sub(r\"won\\'t\", \"will not\", text)\n",
    "    text = re.sub(r\"can\\'t\", \"can not\", text)\n",
    "    text = re.sub(r\"don\\'t\", \"do not\", text)\n",
    "    text = re.sub(r\"dont\", \"do not\", text)\n",
    "    text = re.sub(r\"n\\’t\", \" not\", text)\n",
    "    text = re.sub(r\"n\\'t\", \" not\", text)\n",
    "    text = re.sub(r\"\\'re\", \" are\", text)\n",
    "    text = re.sub(r\"\\'s\", \" is\", text)\n",
    "    text = re.sub(r\"\\’d\", \" would\", text)\n",
    "    text = re.sub(r\"\\d\", \" would\", text)\n",
    "    text = re.sub(r\"\\'ll\", \" will\", text)\n",
    "    text = re.sub(r\"\\'t\", \" not\", text)\n",
    "    text = re.sub(r\"\\'ve\", \" have\", text)\n",
    "    text = re.sub(r\"\\'m\", \" am\", text)\n",
    "    text = re.sub(r\"\\n\", \"\", text)\n",
    "    text = re.sub(r\"\\r\", \"\", text)\n",
    "    text = re.sub(r\"[0-9]\", \"digit\", text)\n",
    "    text = re.sub(r\"\\'\", \"\", text)\n",
    "    text = re.sub(r\"\\\"\", \"\", text)\n",
    "    text = re.sub(r'[?|!|\\'|\"|#]',r'', text)\n",
    "    text = re.sub(r'[.|,|)|(|\\|/]',r' ', text)\n",
    "    text = remove_stopwords(text)\n",
    "    \n",
    "    return text"
   ]
  },
  {
   "cell_type": "code",
   "execution_count": 11,
   "id": "7a49b6bd",
   "metadata": {},
   "outputs": [],
   "source": [
    "train.Title = train.Title.apply(lambda x: clean_text(x))\n",
    "test.Title = test.Title.apply(lambda x: clean_text(x))"
   ]
  },
  {
   "cell_type": "code",
   "execution_count": null,
   "id": "767ebdff",
   "metadata": {},
   "outputs": [],
   "source": []
  },
  {
   "cell_type": "markdown",
   "id": "91921ad2",
   "metadata": {},
   "source": [
    "## 2.4 Clean Body"
   ]
  },
  {
   "cell_type": "code",
   "execution_count": 12,
   "id": "d61261f9",
   "metadata": {},
   "outputs": [],
   "source": [
    "import re"
   ]
  },
  {
   "cell_type": "code",
   "execution_count": 13,
   "id": "f48e6751",
   "metadata": {},
   "outputs": [],
   "source": [
    "train['body_notag'] = train.Body.apply(lambda s: re.sub('<[^>]+>', '', s))\n",
    "test['body_notag'] = test.Body.apply(lambda s: re.sub('<[^>]+>', '', s))"
   ]
  },
  {
   "cell_type": "code",
   "execution_count": 14,
   "id": "f51697d9",
   "metadata": {},
   "outputs": [],
   "source": [
    "train.body_notag = train.body_notag.apply(lambda x: clean_text(x))\n",
    "test.body_notag = test.body_notag.apply(lambda x: clean_text(x))"
   ]
  },
  {
   "cell_type": "code",
   "execution_count": null,
   "id": "64f82d0b",
   "metadata": {},
   "outputs": [],
   "source": []
  },
  {
   "cell_type": "markdown",
   "id": "9d0b63e3",
   "metadata": {},
   "source": [
    "## 2.5 Combine Body and Title"
   ]
  },
  {
   "cell_type": "code",
   "execution_count": 15,
   "id": "633da3f8",
   "metadata": {},
   "outputs": [],
   "source": [
    "train['all_text'] = train.Title + ' ' + train.body_notag\n",
    "test['all_text'] = test.Title + ' ' + test.body_notag"
   ]
  },
  {
   "cell_type": "code",
   "execution_count": null,
   "id": "0561fb22",
   "metadata": {},
   "outputs": [],
   "source": []
  },
  {
   "cell_type": "markdown",
   "id": "1f2c9022",
   "metadata": {},
   "source": [
    "# 3. Feature Engineering"
   ]
  },
  {
   "cell_type": "markdown",
   "id": "65881ef7",
   "metadata": {},
   "source": [
    "## 3.1. Length of the Title & Question"
   ]
  },
  {
   "cell_type": "code",
   "execution_count": 16,
   "id": "7e362d41",
   "metadata": {},
   "outputs": [],
   "source": [
    "train['title_length'] = train.Title.apply(lambda x: len(x.split()))\n",
    "test['title_length'] = test.Title.apply(lambda x: len(x.split()))"
   ]
  },
  {
   "cell_type": "code",
   "execution_count": 17,
   "id": "2ba03c4d",
   "metadata": {},
   "outputs": [],
   "source": [
    "train['body_length'] = train.body_notag.apply(lambda x: len(x.split()))\n",
    "test['body_length'] = test.body_notag.apply(lambda x: len(x.split()))"
   ]
  },
  {
   "cell_type": "code",
   "execution_count": null,
   "id": "1c0b193b",
   "metadata": {},
   "outputs": [],
   "source": []
  },
  {
   "cell_type": "code",
   "execution_count": null,
   "id": "6ac1b992",
   "metadata": {},
   "outputs": [],
   "source": []
  },
  {
   "cell_type": "markdown",
   "id": "2d4e4b2d",
   "metadata": {},
   "source": [
    "# 4. Train-Val-Test Split"
   ]
  },
  {
   "cell_type": "code",
   "execution_count": 18,
   "id": "96edf5ea",
   "metadata": {},
   "outputs": [],
   "source": [
    "from sklearn.model_selection import train_test_split"
   ]
  },
  {
   "cell_type": "code",
   "execution_count": 19,
   "id": "a45490f3",
   "metadata": {},
   "outputs": [],
   "source": [
    "# 45000 * 0.22222222"
   ]
  },
  {
   "cell_type": "code",
   "execution_count": 20,
   "id": "fc8b8cef",
   "metadata": {},
   "outputs": [],
   "source": [
    "train_df, val_df, _, _ = train_test_split(train, train['Y'], test_size=0.22222222, random_state=42)"
   ]
  },
  {
   "cell_type": "code",
   "execution_count": 21,
   "id": "8d12d496",
   "metadata": {},
   "outputs": [
    {
     "data": {
      "text/plain": [
       "((35000, 11), (10000, 11))"
      ]
     },
     "execution_count": 21,
     "metadata": {},
     "output_type": "execute_result"
    }
   ],
   "source": [
    "train_df.shape, val_df.shape"
   ]
  },
  {
   "cell_type": "code",
   "execution_count": 22,
   "id": "1275c228",
   "metadata": {},
   "outputs": [],
   "source": [
    "pickle.dump(train_df, open('../data/processed/train_df.pkl', 'wb'))\n",
    "pickle.dump(val_df, open('../data/processed/val_df.pkl', 'wb'))\n",
    "pickle.dump(test, open('../data/processed/test_df.pkl', 'wb'))"
   ]
  },
  {
   "cell_type": "code",
   "execution_count": null,
   "id": "c12af9ab",
   "metadata": {},
   "outputs": [],
   "source": []
  },
  {
   "cell_type": "code",
   "execution_count": null,
   "id": "580f928c",
   "metadata": {},
   "outputs": [],
   "source": []
  }
 ],
 "metadata": {
  "kernelspec": {
   "display_name": "conda_pytorch_p36",
   "language": "python",
   "name": "conda_pytorch_p36"
  },
  "language_info": {
   "codemirror_mode": {
    "name": "ipython",
    "version": 3
   },
   "file_extension": ".py",
   "mimetype": "text/x-python",
   "name": "python",
   "nbconvert_exporter": "python",
   "pygments_lexer": "ipython3",
   "version": "3.6.13"
  }
 },
 "nbformat": 4,
 "nbformat_minor": 5
}
