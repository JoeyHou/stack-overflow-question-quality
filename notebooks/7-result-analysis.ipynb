{
 "cells": [
  {
   "cell_type": "code",
   "execution_count": 25,
   "id": "f1e7e7e8",
   "metadata": {},
   "outputs": [],
   "source": [
    "import pandas as pd\n",
    "from sklearn.metrics import accuracy_score\n",
    "import pickle"
   ]
  },
  {
   "cell_type": "code",
   "execution_count": null,
   "id": "5e8b6edb",
   "metadata": {},
   "outputs": [],
   "source": []
  },
  {
   "cell_type": "markdown",
   "id": "36f63a25",
   "metadata": {},
   "source": [
    "# 1. Read in test output"
   ]
  },
  {
   "cell_type": "code",
   "execution_count": 37,
   "id": "3c29f7ff",
   "metadata": {},
   "outputs": [],
   "source": [
    "out_2 = pd.read_csv('../data/sklearn/test_sklearn_out_2.csv', header = None)\n",
    "test_df = pickle.load(open('../data/processed/test_df.pkl', 'rb'))"
   ]
  },
  {
   "cell_type": "code",
   "execution_count": 38,
   "id": "b85c36bf",
   "metadata": {},
   "outputs": [],
   "source": [
    "# test_df"
   ]
  },
  {
   "cell_type": "code",
   "execution_count": 39,
   "id": "108b955c",
   "metadata": {},
   "outputs": [
    {
     "data": {
      "text/plain": [
       "(15000, 11)"
      ]
     },
     "execution_count": 39,
     "metadata": {},
     "output_type": "execute_result"
    }
   ],
   "source": [
    "test_y = test_df.cleaned_y.values\n",
    "test_df.shape"
   ]
  },
  {
   "cell_type": "code",
   "execution_count": 40,
   "id": "920b194e",
   "metadata": {},
   "outputs": [
    {
     "data": {
      "text/plain": [
       "0.7222666666666666"
      ]
     },
     "execution_count": 40,
     "metadata": {},
     "output_type": "execute_result"
    }
   ],
   "source": [
    "accuracy_score(test_y, out_2.values.flatten())"
   ]
  },
  {
   "cell_type": "markdown",
   "id": "85f1cc1a",
   "metadata": {},
   "source": [
    "# 2. Performance Distribution"
   ]
  },
  {
   "cell_type": "code",
   "execution_count": 41,
   "id": "1562d11c",
   "metadata": {},
   "outputs": [],
   "source": [
    "pred_y = out_2.values.flatten()"
   ]
  },
  {
   "cell_type": "code",
   "execution_count": 43,
   "id": "77efe908",
   "metadata": {},
   "outputs": [
    {
     "data": {
      "text/plain": [
       "0.6554"
      ]
     },
     "execution_count": 43,
     "metadata": {},
     "output_type": "execute_result"
    }
   ],
   "source": [
    "total_points = 0\n",
    "total_correct = 0\n",
    "for i in range(len(pred_y)):\n",
    "    if test_y[i] == 0:\n",
    "        total_points += 1\n",
    "        if pred_y[i] == 0:\n",
    "            total_correct += 1\n",
    "acc_class_0 = total_correct / total_points\n",
    "acc_class_0"
   ]
  },
  {
   "cell_type": "code",
   "execution_count": 44,
   "id": "73afedb2",
   "metadata": {},
   "outputs": [
    {
     "data": {
      "text/plain": [
       "0.715"
      ]
     },
     "execution_count": 44,
     "metadata": {},
     "output_type": "execute_result"
    }
   ],
   "source": [
    "total_points = 0\n",
    "total_correct = 0\n",
    "for i in range(len(pred_y)):\n",
    "    if test_y[i] == 1:\n",
    "        total_points += 1\n",
    "        if pred_y[i] == 1:\n",
    "            total_correct += 1\n",
    "acc_class_1 = total_correct / total_points\n",
    "acc_class_1"
   ]
  },
  {
   "cell_type": "code",
   "execution_count": 45,
   "id": "20fe50f4",
   "metadata": {},
   "outputs": [
    {
     "data": {
      "text/plain": [
       "0.7964"
      ]
     },
     "execution_count": 45,
     "metadata": {},
     "output_type": "execute_result"
    }
   ],
   "source": [
    "total_points = 0\n",
    "total_correct = 0\n",
    "for i in range(len(pred_y)):\n",
    "    if test_y[i] == 2:\n",
    "        total_points += 1\n",
    "        if pred_y[i] == 2:\n",
    "            total_correct += 1\n",
    "acc_class_2 = total_correct / total_points\n",
    "acc_class_2"
   ]
  },
  {
   "cell_type": "code",
   "execution_count": null,
   "id": "9d16f139",
   "metadata": {},
   "outputs": [],
   "source": []
  },
  {
   "cell_type": "code",
   "execution_count": null,
   "id": "bc8644e9",
   "metadata": {},
   "outputs": [],
   "source": []
  },
  {
   "cell_type": "markdown",
   "id": "63d4af5a",
   "metadata": {},
   "source": [
    "# 3. One-VS-All"
   ]
  },
  {
   "cell_type": "code",
   "execution_count": 51,
   "id": "f0178e04",
   "metadata": {},
   "outputs": [
    {
     "data": {
      "text/plain": [
       "0.8692666666666666"
      ]
     },
     "execution_count": 51,
     "metadata": {},
     "output_type": "execute_result"
    }
   ],
   "source": [
    "test_y_ova = []\n",
    "for y in test_y:\n",
    "    if y != 2:\n",
    "        test_y_ova.append(0)\n",
    "    else:\n",
    "        test_y_ova.append(1)\n",
    "\n",
    "pred_y_ova = []\n",
    "for y in pred_y:\n",
    "    if y != 2:\n",
    "        pred_y_ova.append(0)\n",
    "    else:\n",
    "        pred_y_ova.append(1)\n",
    "\n",
    "accuracy_score(test_y_ova, pred_y_ova)"
   ]
  },
  {
   "cell_type": "code",
   "execution_count": null,
   "id": "038def3f",
   "metadata": {},
   "outputs": [],
   "source": []
  },
  {
   "cell_type": "code",
   "execution_count": 50,
   "id": "0478859f",
   "metadata": {},
   "outputs": [
    {
     "data": {
      "text/plain": [
       "0.7684666666666666"
      ]
     },
     "execution_count": 50,
     "metadata": {},
     "output_type": "execute_result"
    }
   ],
   "source": [
    "test_y_ova = []\n",
    "for y in test_y:\n",
    "    if y != 0:\n",
    "        test_y_ova.append(1)\n",
    "    else:\n",
    "        test_y_ova.append(0)\n",
    "        \n",
    "pred_y_ova = []\n",
    "for y in pred_y:\n",
    "    if y != 0:\n",
    "        pred_y_ova.append(1)\n",
    "    else:\n",
    "        pred_y_ova.append(0)\n",
    "accuracy_score(test_y_ova, pred_y_ova)"
   ]
  },
  {
   "cell_type": "code",
   "execution_count": null,
   "id": "fceb2591",
   "metadata": {},
   "outputs": [],
   "source": []
  }
 ],
 "metadata": {
  "kernelspec": {
   "display_name": "conda_pytorch_p36",
   "language": "python",
   "name": "conda_pytorch_p36"
  },
  "language_info": {
   "codemirror_mode": {
    "name": "ipython",
    "version": 3
   },
   "file_extension": ".py",
   "mimetype": "text/x-python",
   "name": "python",
   "nbconvert_exporter": "python",
   "pygments_lexer": "ipython3",
   "version": "3.6.13"
  }
 },
 "nbformat": 4,
 "nbformat_minor": 5
}
