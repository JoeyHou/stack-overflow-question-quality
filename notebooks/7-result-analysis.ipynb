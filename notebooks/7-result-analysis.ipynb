{
 "cells": [
  {
   "cell_type": "code",
   "execution_count": 2,
   "id": "spoken-granny",
   "metadata": {},
   "outputs": [],
   "source": [
    "import pandas as pd\n",
    "from sklearn.metrics import accuracy_score\n",
    "import pickle"
   ]
  },
  {
   "cell_type": "markdown",
   "id": "magnetic-separation",
   "metadata": {},
   "source": [
    "# 0. Read in test output"
   ]
  },
  {
   "cell_type": "code",
   "execution_count": 5,
   "id": "powered-approval",
   "metadata": {},
   "outputs": [],
   "source": [
    "out_1 = pickle.load(open('../data/baseline_pred.pkl', 'rb'))\n",
    "# out_2 = pd.read_csv('../data/sklearn/test_sklearn_out_2.csv', header = None)\n",
    "test_df = pickle.load(open('../data/processed/test_df.pkl', 'rb'))"
   ]
  },
  {
   "cell_type": "code",
   "execution_count": 4,
   "id": "unknown-gothic",
   "metadata": {},
   "outputs": [],
   "source": [
    "# test_df"
   ]
  },
  {
   "cell_type": "code",
   "execution_count": 7,
   "id": "stupid-muslim",
   "metadata": {},
   "outputs": [
    {
     "data": {
      "text/plain": [
       "(15000, 11)"
      ]
     },
     "execution_count": 7,
     "metadata": {},
     "output_type": "execute_result"
    }
   ],
   "source": [
    "test_y = test_df.cleaned_y.values\n",
    "test_df.shape"
   ]
  },
  {
   "cell_type": "code",
   "execution_count": 9,
   "id": "fatal-ghost",
   "metadata": {},
   "outputs": [
    {
     "data": {
      "text/plain": [
       "0.3862"
      ]
     },
     "execution_count": 9,
     "metadata": {},
     "output_type": "execute_result"
    }
   ],
   "source": [
    "accuracy_score(test_y, out_1) # baseline"
   ]
  },
  {
   "cell_type": "code",
   "execution_count": 40,
   "id": "surprised-engineering",
   "metadata": {},
   "outputs": [
    {
     "data": {
      "text/plain": [
       "0.7222666666666666"
      ]
     },
     "execution_count": 40,
     "metadata": {},
     "output_type": "execute_result"
    }
   ],
   "source": [
    "accuracy_score(test_y, out_2.values.flatten()) # xgboost"
   ]
  },
  {
   "cell_type": "markdown",
   "id": "european-tobacco",
   "metadata": {},
   "source": [
    "# 1. Baseline\n",
    "## 1.1 Performance Distribution"
   ]
  },
  {
   "cell_type": "code",
   "execution_count": 10,
   "id": "balanced-sharing",
   "metadata": {},
   "outputs": [],
   "source": [
    "pred_y = out_1"
   ]
  },
  {
   "cell_type": "code",
   "execution_count": 11,
   "id": "thick-cookie",
   "metadata": {},
   "outputs": [
    {
     "data": {
      "text/plain": [
       "0.631"
      ]
     },
     "execution_count": 11,
     "metadata": {},
     "output_type": "execute_result"
    }
   ],
   "source": [
    "total_points = 0\n",
    "total_correct = 0\n",
    "for i in range(len(pred_y)):\n",
    "    if test_y[i] == 0:\n",
    "        total_points += 1\n",
    "        if pred_y[i] == 0:\n",
    "            total_correct += 1\n",
    "acc_class_0 = total_correct / total_points\n",
    "acc_class_0"
   ]
  },
  {
   "cell_type": "code",
   "execution_count": 12,
   "id": "unlike-cookie",
   "metadata": {},
   "outputs": [
    {
     "data": {
      "text/plain": [
       "0.3124"
      ]
     },
     "execution_count": 12,
     "metadata": {},
     "output_type": "execute_result"
    }
   ],
   "source": [
    "total_points = 0\n",
    "total_correct = 0\n",
    "for i in range(len(pred_y)):\n",
    "    if test_y[i] == 1:\n",
    "        total_points += 1\n",
    "        if pred_y[i] == 1:\n",
    "            total_correct += 1\n",
    "acc_class_1 = total_correct / total_points\n",
    "acc_class_1"
   ]
  },
  {
   "cell_type": "code",
   "execution_count": 13,
   "id": "structured-spectrum",
   "metadata": {},
   "outputs": [
    {
     "data": {
      "text/plain": [
       "0.2152"
      ]
     },
     "execution_count": 13,
     "metadata": {},
     "output_type": "execute_result"
    }
   ],
   "source": [
    "total_points = 0\n",
    "total_correct = 0\n",
    "for i in range(len(pred_y)):\n",
    "    if test_y[i] == 2:\n",
    "        total_points += 1\n",
    "        if pred_y[i] == 2:\n",
    "            total_correct += 1\n",
    "acc_class_2 = total_correct / total_points\n",
    "acc_class_2"
   ]
  },
  {
   "cell_type": "markdown",
   "id": "elect-police",
   "metadata": {},
   "source": [
    "## 1.2 One-VS-All"
   ]
  },
  {
   "cell_type": "code",
   "execution_count": 14,
   "id": "chubby-consensus",
   "metadata": {},
   "outputs": [
    {
     "data": {
      "text/plain": [
       "0.6486"
      ]
     },
     "execution_count": 14,
     "metadata": {},
     "output_type": "execute_result"
    }
   ],
   "source": [
    "test_y_ova = []\n",
    "for y in test_y:\n",
    "    if y != 2:\n",
    "        test_y_ova.append(0)\n",
    "    else:\n",
    "        test_y_ova.append(1)\n",
    "\n",
    "pred_y_ova = []\n",
    "for y in pred_y:\n",
    "    if y != 2:\n",
    "        pred_y_ova.append(0)\n",
    "    else:\n",
    "        pred_y_ova.append(1)\n",
    "\n",
    "accuracy_score(test_y_ova, pred_y_ova)"
   ]
  },
  {
   "cell_type": "code",
   "execution_count": 15,
   "id": "governmental-skirt",
   "metadata": {},
   "outputs": [
    {
     "data": {
      "text/plain": [
       "0.5282"
      ]
     },
     "execution_count": 15,
     "metadata": {},
     "output_type": "execute_result"
    }
   ],
   "source": [
    "test_y_ova = []\n",
    "for y in test_y:\n",
    "    if y != 0:\n",
    "        test_y_ova.append(1)\n",
    "    else:\n",
    "        test_y_ova.append(0)\n",
    "        \n",
    "pred_y_ova = []\n",
    "for y in pred_y:\n",
    "    if y != 0:\n",
    "        pred_y_ova.append(1)\n",
    "    else:\n",
    "        pred_y_ova.append(0)\n",
    "accuracy_score(test_y_ova, pred_y_ova)"
   ]
  },
  {
   "cell_type": "markdown",
   "id": "exposed-rhythm",
   "metadata": {},
   "source": [
    "# 2. XGBoost Model \n",
    "## 2.1 Performance Distribution"
   ]
  },
  {
   "cell_type": "code",
   "execution_count": 41,
   "id": "universal-indonesia",
   "metadata": {},
   "outputs": [],
   "source": [
    "pred_y = out_2.values.flatten()"
   ]
  },
  {
   "cell_type": "code",
   "execution_count": 43,
   "id": "communist-dancing",
   "metadata": {},
   "outputs": [
    {
     "data": {
      "text/plain": [
       "0.6554"
      ]
     },
     "execution_count": 43,
     "metadata": {},
     "output_type": "execute_result"
    }
   ],
   "source": [
    "total_points = 0\n",
    "total_correct = 0\n",
    "for i in range(len(pred_y)):\n",
    "    if test_y[i] == 0:\n",
    "        total_points += 1\n",
    "        if pred_y[i] == 0:\n",
    "            total_correct += 1\n",
    "acc_class_0 = total_correct / total_points\n",
    "acc_class_0"
   ]
  },
  {
   "cell_type": "code",
   "execution_count": 44,
   "id": "accomplished-pickup",
   "metadata": {},
   "outputs": [
    {
     "data": {
      "text/plain": [
       "0.715"
      ]
     },
     "execution_count": 44,
     "metadata": {},
     "output_type": "execute_result"
    }
   ],
   "source": [
    "total_points = 0\n",
    "total_correct = 0\n",
    "for i in range(len(pred_y)):\n",
    "    if test_y[i] == 1:\n",
    "        total_points += 1\n",
    "        if pred_y[i] == 1:\n",
    "            total_correct += 1\n",
    "acc_class_1 = total_correct / total_points\n",
    "acc_class_1"
   ]
  },
  {
   "cell_type": "code",
   "execution_count": 45,
   "id": "illegal-collection",
   "metadata": {},
   "outputs": [
    {
     "data": {
      "text/plain": [
       "0.7964"
      ]
     },
     "execution_count": 45,
     "metadata": {},
     "output_type": "execute_result"
    }
   ],
   "source": [
    "total_points = 0\n",
    "total_correct = 0\n",
    "for i in range(len(pred_y)):\n",
    "    if test_y[i] == 2:\n",
    "        total_points += 1\n",
    "        if pred_y[i] == 2:\n",
    "            total_correct += 1\n",
    "acc_class_2 = total_correct / total_points\n",
    "acc_class_2"
   ]
  },
  {
   "cell_type": "code",
   "execution_count": null,
   "id": "legal-transport",
   "metadata": {},
   "outputs": [],
   "source": []
  },
  {
   "cell_type": "code",
   "execution_count": null,
   "id": "perceived-spectacular",
   "metadata": {},
   "outputs": [],
   "source": []
  },
  {
   "cell_type": "markdown",
   "id": "minor-conversion",
   "metadata": {},
   "source": [
    "# 2.2. One-VS-All"
   ]
  },
  {
   "cell_type": "code",
   "execution_count": 51,
   "id": "previous-nightmare",
   "metadata": {},
   "outputs": [
    {
     "data": {
      "text/plain": [
       "0.8692666666666666"
      ]
     },
     "execution_count": 51,
     "metadata": {},
     "output_type": "execute_result"
    }
   ],
   "source": [
    "test_y_ova = []\n",
    "for y in test_y:\n",
    "    if y != 2:\n",
    "        test_y_ova.append(0)\n",
    "    else:\n",
    "        test_y_ova.append(1)\n",
    "\n",
    "pred_y_ova = []\n",
    "for y in pred_y:\n",
    "    if y != 2:\n",
    "        pred_y_ova.append(0)\n",
    "    else:\n",
    "        pred_y_ova.append(1)\n",
    "\n",
    "accuracy_score(test_y_ova, pred_y_ova)"
   ]
  },
  {
   "cell_type": "code",
   "execution_count": null,
   "id": "medium-romania",
   "metadata": {},
   "outputs": [],
   "source": []
  },
  {
   "cell_type": "code",
   "execution_count": 50,
   "id": "proved-february",
   "metadata": {},
   "outputs": [
    {
     "data": {
      "text/plain": [
       "0.7684666666666666"
      ]
     },
     "execution_count": 50,
     "metadata": {},
     "output_type": "execute_result"
    }
   ],
   "source": [
    "test_y_ova = []\n",
    "for y in test_y:\n",
    "    if y != 0:\n",
    "        test_y_ova.append(1)\n",
    "    else:\n",
    "        test_y_ova.append(0)\n",
    "        \n",
    "pred_y_ova = []\n",
    "for y in pred_y:\n",
    "    if y != 0:\n",
    "        pred_y_ova.append(1)\n",
    "    else:\n",
    "        pred_y_ova.append(0)\n",
    "accuracy_score(test_y_ova, pred_y_ova)"
   ]
  },
  {
   "cell_type": "code",
   "execution_count": null,
   "id": "revised-miami",
   "metadata": {},
   "outputs": [],
   "source": []
  }
 ],
 "metadata": {
  "kernelspec": {
   "display_name": "Python 3",
   "language": "python",
   "name": "python3"
  },
  "language_info": {
   "codemirror_mode": {
    "name": "ipython",
    "version": 3
   },
   "file_extension": ".py",
   "mimetype": "text/x-python",
   "name": "python",
   "nbconvert_exporter": "python",
   "pygments_lexer": "ipython3",
   "version": "3.8.3"
  }
 },
 "nbformat": 4,
 "nbformat_minor": 5
}
